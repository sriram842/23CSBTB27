{
  "nbformat": 4,
  "nbformat_minor": 0,
  "metadata": {
    "colab": {
      "provenance": [],
      "authorship_tag": "ABX9TyOCa5QRTPthd14qiWm1zI0j",
      "include_colab_link": true
    },
    "kernelspec": {
      "name": "python3",
      "display_name": "Python 3"
    },
    "language_info": {
      "name": "python"
    }
  },
  "cells": [
    {
      "cell_type": "markdown",
      "metadata": {
        "id": "view-in-github",
        "colab_type": "text"
      },
      "source": [
        "<a href=\"https://colab.research.google.com/github/sriram842/23CSBTB27/blob/main/Untitled2.ipynb\" target=\"_parent\"><img src=\"https://colab.research.google.com/assets/colab-badge.svg\" alt=\"Open In Colab\"/></a>"
      ]
    },
    {
      "cell_type": "code",
      "execution_count": 2,
      "metadata": {
        "colab": {
          "base_uri": "https://localhost:8080/"
        },
        "id": "aoovlDbrjis4",
        "outputId": "cbc0b971-587b-4743-d6d5-def848b9efff"
      },
      "outputs": [
        {
          "output_type": "stream",
          "name": "stdout",
          "text": [
            "(1, 5, 2, 6, 7)\n",
            "[3, 6, 1, 8]\n",
            "<class 'list'>\n",
            "<class 'tuple'>\n"
          ]
        }
      ],
      "source": [
        "import numpy as np\n",
        "list=(1,5,2,6,7)\n",
        "list1=[3,6,1,8]\n",
        "print(list)\n",
        "print(list1)\n",
        "print(type(list1))\n",
        "print(type(list))\n",
        "\n"
      ]
    },
    {
      "cell_type": "code",
      "source": [
        "list= [\"Geeks\",\"For\",\"Geek\"]\n",
        "list2=\"My first Lab\"\n",
        "list3=4,3\n",
        "list4=2j+6\n",
        "list5=\"My first lab\"\n",
        "print(type(list2))\n",
        "print(type(list3))\n",
        "print(type(list4))\n",
        "print(type(list5))\n",
        "print(\"\\nlist item:\")\n",
        "print(list)\n",
        "print(type(list))\n",
        "print(list[0])\n",
        "print()\n"
      ],
      "metadata": {
        "colab": {
          "base_uri": "https://localhost:8080/"
        },
        "id": "BMmzRn8Elsci",
        "outputId": "6c8d443f-1468-4fae-964e-1c354d4323c3"
      },
      "execution_count": 4,
      "outputs": [
        {
          "output_type": "stream",
          "name": "stdout",
          "text": [
            "<class 'str'>\n",
            "<class 'tuple'>\n",
            "<class 'complex'>\n",
            "<class 'str'>\n",
            "\n",
            "list item:\n",
            "['Geeks', 'For', 'Geek']\n",
            "<class 'list'>\n",
            "Geeks\n",
            "\n"
          ]
        }
      ]
    },
    {
      "cell_type": "code",
      "source": [],
      "metadata": {
        "id": "y7al5bG8n1Z_"
      },
      "execution_count": null,
      "outputs": []
    }
  ]
}